{
  "nbformat": 4,
  "nbformat_minor": 0,
  "metadata": {
    "colab": {
      "name": "Cifar10",
      "provenance": [],
      "collapsed_sections": [],
      "include_colab_link": true
    },
    "kernelspec": {
      "name": "python3",
      "display_name": "Python 3"
    },
    "accelerator": "GPU"
  },
  "cells": [
    {
      "cell_type": "markdown",
      "metadata": {
        "id": "view-in-github",
        "colab_type": "text"
      },
      "source": [
        "<a href=\"https://colab.research.google.com/github/heyhiheyhi/personal/blob/master/Cifar10.ipynb\" target=\"_parent\"><img src=\"https://colab.research.google.com/assets/colab-badge.svg\" alt=\"Open In Colab\"/></a>"
      ]
    },
    {
      "cell_type": "code",
      "metadata": {
        "id": "GeBrldjo4JTv",
        "colab_type": "code",
        "colab": {}
      },
      "source": [
        "import tensorflow as tf\n",
        "import numpy as np"
      ],
      "execution_count": 0,
      "outputs": []
    },
    {
      "cell_type": "code",
      "metadata": {
        "id": "mwV9A-l34SuD",
        "colab_type": "code",
        "colab": {}
      },
      "source": [
        "from tensorflow.keras.datasets.cifar10 import load_data"
      ],
      "execution_count": 0,
      "outputs": []
    },
    {
      "cell_type": "code",
      "metadata": {
        "id": "yZOwINutJnpp",
        "colab_type": "code",
        "colab": {}
      },
      "source": [
        "train_epochs = 10000\n",
        "batch_size = 128\n",
        "display_step = 100\n",
        "test_epochs = 10\n",
        "test_batch_size = 1000"
      ],
      "execution_count": 0,
      "outputs": []
    },
    {
      "cell_type": "code",
      "metadata": {
        "id": "oDbK6sSE4dN0",
        "colab_type": "code",
        "colab": {}
      },
      "source": [
        "#랜덤형태로 셔플 후 가져옴\n",
        "def next_batch(num, data, labels):\n",
        "  ''''num' 갯수만큼 랜덤하게 샘플 이미지와 레이블을 리턴합니다.'''\n",
        "  idx = np.arange(0, len(data))\n",
        "  np.random.shuffle(idx)\n",
        "  idx=idx[:num]\n",
        "  data_shuffle = [data[i] for i in idx]   #이미지 데이터\n",
        "  labels_shuffle = [labels[i] for i in idx] #레이블 데이터\n",
        "  return np.asarray(data_shuffle), np.asarray(labels_shuffle)"
      ],
      "execution_count": 0,
      "outputs": []
    },
    {
      "cell_type": "code",
      "metadata": {
        "id": "LUV8kmGH5qc_",
        "colab_type": "code",
        "colab": {}
      },
      "source": [
        "def build_CNN_classifier(x):\n",
        "  x_image = x\n",
        "\n",
        "  #1st convolution layer\n",
        "  #64filter 5x5x3\n",
        "  #32x32x3 --> 32x32x64\n",
        "  W_conv1 = tf.Variable(tf.truncated_normal(shape=[5,5,3,64], stddev=5e-2)) #웨이트값 5*5\n",
        "  b_conv1 = tf.Variable(tf.constant(0.1, shape=[64]))\n",
        "  h_conv1 = tf.nn.relu(tf.nn.conv2d(x_image, W_conv1, strides=[1,1,1,1], padding=\"SAME\")+b_conv1)\n",
        "  \n",
        "  #1st pooling layer\n",
        "  h_pool1 = tf.nn.max_pool(h_conv1, ksize=[1,3,3,1], strides=[1,2,2,1], padding=\"SAME\")\n",
        "\n",
        "  #2nd convolution layer\n",
        "  #64 filter 5x5\n",
        "  W_conv2 = tf.Variable(tf.truncated_normal(shape=[5,5,64,64], stddev=5e-2))\n",
        "  b_conv2 = tf.Variable(tf.constant(0.1, shape=[64]))\n",
        "  h_conv2 = tf.nn.relu(tf.nn.conv2d(h_pool1, W_conv2, strides=[1,1,1,1], padding=\"SAME\")+b_conv2)\n",
        "  \n",
        "  #2nd pooling layer\n",
        "  h_pool2 = tf.nn.max_pool(h_conv2, ksize=[1,3,3,1], strides=[1,2,2,1], padding=\"SAME\")\n",
        "\n",
        "  #3rd convolution layer\n",
        "  #128 filter 3x3\n",
        "  W_conv3 = tf.Variable(tf.truncated_normal(shape=[3,3,64,128], stddev=5e-2))\n",
        "  b_conv3 = tf.Variable(tf.constant(0.1, shape=[128]))\n",
        "  h_conv3 = tf.nn.relu(tf.nn.conv2d(h_pool2, W_conv3, strides=[1,1,1,1], padding=\"SAME\")+b_conv3)\n",
        "  \n",
        "  #4rd convolution layer\n",
        "  #128 filter 3x3\n",
        "  W_conv4 = tf.Variable(tf.truncated_normal(shape=[3,3,128,128], stddev=5e-2))\n",
        "  b_conv4 = tf.Variable(tf.constant(0.1, shape=[128]))\n",
        "  h_conv4 = tf.nn.relu(tf.nn.conv2d(h_conv3, W_conv4, strides=[1,1,1,1], padding=\"SAME\")+b_conv4)\n",
        "  \n",
        "  #5th convolution layer\n",
        "  #128 filter 3x3\n",
        "  W_conv5 = tf.Variable(tf.truncated_normal(shape=[3,3,128,128], stddev=5e-2))\n",
        "  b_conv5 = tf.Variable(tf.constant(0.1, shape=[128]))\n",
        "  h_conv5 = tf.nn.relu(tf.nn.conv2d(h_conv4, W_conv5, strides=[1,1,1,1], padding=\"SAME\")+b_conv5)  \n",
        "\n",
        "  #Fully connected layer1\n",
        "  #32x32 -> 8x8x128 feature map -> 384 feature map\n",
        "  W_fc1 = tf.Variable(tf.truncated_normal(shape=[8*8*128,384], stddev=5e-2))\n",
        "  b_fc1 = tf.Variable(tf.constant(0.1, shape=[384]))\n",
        "\n",
        "  h_conv5_flat = tf.reshape(h_conv5, [-1, 8*8*128])\n",
        "  h_fc1 = tf.nn.relu(tf.matmul(h_conv5_flat,W_fc1)+b_fc1)\n",
        "  \n",
        "  #dropout\n",
        "  h_fc1_drop = tf.nn.dropout(h_fc1, keep_prob)\n",
        "\n",
        "  #Fully connected layer2\n",
        "  W_fc2 = tf.Variable(tf.truncated_normal(shape=[384,10], stddev=5e-2))\n",
        "  b_fc2 = tf.Variable(tf.constant(0.1, shape=[10]))\n",
        "\n",
        "  logits = tf.matmul(h_fc1_drop, W_fc2)+b_fc2\n",
        "\n",
        "  #softmax\n",
        "  y_pred = tf.nn.softmax(logits)\n",
        "\n",
        "  return y_pred,logits"
      ],
      "execution_count": 0,
      "outputs": []
    },
    {
      "cell_type": "code",
      "metadata": {
        "id": "M6K0LUC2GKSc",
        "colab_type": "code",
        "outputId": "00bf26e4-a9a2-4aa9-802a-0ee7f60ca05a",
        "colab": {
          "base_uri": "https://localhost:8080/",
          "height": 203
        }
      },
      "source": [
        "x = tf.placeholder(tf.float32, shape=[None, 32,32,3])\n",
        "y = tf.placeholder(tf.float32, shape=[None, 10])\n",
        "keep_prob = tf.placeholder(tf.float32)"
      ],
      "execution_count": 0,
      "outputs": [
        {
          "output_type": "error",
          "ename": "AttributeError",
          "evalue": "ignored",
          "traceback": [
            "\u001b[0;31m---------------------------------------------------------------------------\u001b[0m",
            "\u001b[0;31mAttributeError\u001b[0m                            Traceback (most recent call last)",
            "\u001b[0;32m<ipython-input-11-7052795b3235>\u001b[0m in \u001b[0;36m<module>\u001b[0;34m()\u001b[0m\n\u001b[0;32m----> 1\u001b[0;31m \u001b[0mx\u001b[0m \u001b[0;34m=\u001b[0m \u001b[0mtf\u001b[0m\u001b[0;34m.\u001b[0m\u001b[0mplaceholder\u001b[0m\u001b[0;34m(\u001b[0m\u001b[0mtf\u001b[0m\u001b[0;34m.\u001b[0m\u001b[0mfloat32\u001b[0m\u001b[0;34m,\u001b[0m \u001b[0mshape\u001b[0m\u001b[0;34m=\u001b[0m\u001b[0;34m[\u001b[0m\u001b[0;32mNone\u001b[0m\u001b[0;34m,\u001b[0m \u001b[0;36m32\u001b[0m\u001b[0;34m,\u001b[0m\u001b[0;36m32\u001b[0m\u001b[0;34m,\u001b[0m\u001b[0;36m3\u001b[0m\u001b[0;34m]\u001b[0m\u001b[0;34m)\u001b[0m\u001b[0;34m\u001b[0m\u001b[0;34m\u001b[0m\u001b[0m\n\u001b[0m\u001b[1;32m      2\u001b[0m \u001b[0my\u001b[0m \u001b[0;34m=\u001b[0m \u001b[0mtf\u001b[0m\u001b[0;34m.\u001b[0m\u001b[0mplaceholder\u001b[0m\u001b[0;34m(\u001b[0m\u001b[0mtf\u001b[0m\u001b[0;34m.\u001b[0m\u001b[0mfloat32\u001b[0m\u001b[0;34m,\u001b[0m \u001b[0mshape\u001b[0m\u001b[0;34m=\u001b[0m\u001b[0;34m[\u001b[0m\u001b[0;32mNone\u001b[0m\u001b[0;34m,\u001b[0m \u001b[0;36m10\u001b[0m\u001b[0;34m]\u001b[0m\u001b[0;34m)\u001b[0m\u001b[0;34m\u001b[0m\u001b[0;34m\u001b[0m\u001b[0m\n\u001b[1;32m      3\u001b[0m \u001b[0mkeep_prob\u001b[0m \u001b[0;34m=\u001b[0m \u001b[0mtf\u001b[0m\u001b[0;34m.\u001b[0m\u001b[0mplaceholder\u001b[0m\u001b[0;34m(\u001b[0m\u001b[0mtf\u001b[0m\u001b[0;34m.\u001b[0m\u001b[0mfloat32\u001b[0m\u001b[0;34m)\u001b[0m\u001b[0;34m\u001b[0m\u001b[0;34m\u001b[0m\u001b[0m\n",
            "\u001b[0;31mAttributeError\u001b[0m: module 'tensorflow' has no attribute 'placeholder'"
          ]
        }
      ]
    },
    {
      "cell_type": "code",
      "metadata": {
        "id": "XtefbulmGXfF",
        "colab_type": "code",
        "colab": {}
      },
      "source": [
        "#load_data를 실행하면서 다운로드가 진행된다.\n",
        "(x_train,y_train),(x_test,y_test) = load_data()\n",
        "#scalar 레이블을 one_hot encoding으로 변환\n",
        "y_train_one_hot = tf.squeeze(tf.one_hot(y_train, 10), axis=1)\n",
        "y_test_one_hot = tf.squeeze(tf.one_hot(y_test, 10), axis=1)"
      ],
      "execution_count": 0,
      "outputs": []
    },
    {
      "cell_type": "code",
      "metadata": {
        "id": "BHnGWzpgHY8i",
        "colab_type": "code",
        "colab": {}
      },
      "source": [
        "y_pred, logits = build_CNN_classifier(x)"
      ],
      "execution_count": 0,
      "outputs": []
    },
    {
      "cell_type": "code",
      "metadata": {
        "id": "etz0GqkPHyHQ",
        "colab_type": "code",
        "colab": {}
      },
      "source": [
        "loss = tf.reduce_mean(tf.nn.softmax_cross_entropy_with_logits_v2(labels=y, logits=logits))\n",
        "train_step = tf.train.RMSPropOptimizer(1e-3).minimize(loss)"
      ],
      "execution_count": 0,
      "outputs": []
    },
    {
      "cell_type": "code",
      "metadata": {
        "id": "dKELUdwdJB2s",
        "colab_type": "code",
        "colab": {}
      },
      "source": [
        "correct_prediction = tf.equal(tf.argmax(y_pred, 1),tf.argmax(y,1))\n",
        "accuracy = tf.reduce_mean(tf.cast(correct_prediction, tf.float32))"
      ],
      "execution_count": 0,
      "outputs": []
    },
    {
      "cell_type": "code",
      "metadata": {
        "id": "QUA_3oGQJWBJ",
        "colab_type": "code",
        "colab": {}
      },
      "source": [
        "with tf.Session() as sess:\n",
        "  sess.run(tf.global_variables_initializer())\n",
        "  # training & accuracy display\n",
        "  for i in range(train_epochs):\n",
        "    batch_x, batch_y = next_batch(batch_size, x_train, y_train_one_hot.eval())\n",
        "\n",
        "    #display_step 마다 loss값 출력한다.\n",
        "    if i%100==0:\n",
        "      train_accuracy=accuracy.eval(feed_dict={x:batch_x, y:batch_y, keep_prob:1.0})\n",
        "      loss_print=loss.eval(feed_dict={x:batch_x, y:batch_y, keep_prob:1.0})\n",
        "      print(\"epoch:%d,accuracy:%f, loss:%f\" %(i, train_accuracy, loss_print))\n",
        "    sess.run(train_step, feed_dict={x:batch_x, y:batch_y, keep_prob:0.8})\n",
        "\n",
        "  # test\n",
        "  test_accuracy = 0.0\n",
        "  for i in range(test_epochs):\n",
        "    test_batch_x, test_batch_y = next_batch(test_batch_size, x_test, y_test_one_hot.eval())\n",
        "    test_accuracy=test_accuracy + accuracy.eval(feed_dict={x:test_batch_x, y:test_batch_y, keep_prob:1.0})\n",
        "    test_accuracy=test_accuracy / test_epochs\n",
        "    print(\"test accuracy : %f\" %test_accuracy)\n"
      ],
      "execution_count": 0,
      "outputs": []
    }
  ]
}